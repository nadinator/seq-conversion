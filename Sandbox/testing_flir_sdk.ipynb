{
 "cells": [
  {
   "cell_type": "code",
   "execution_count": 1,
   "metadata": {
    "ExecuteTime": {
     "start_time": "2023-07-16T12:42:02.704756300Z"
    },
    "is_executing": true
   },
   "outputs": [],
   "source": [
    "import fnv\n",
    "import fnv.file\n",
    "import fnv.reduce\n",
    "import cv2 as cv\n",
    "import numpy as np\n",
    "\n",
    "video_path = 'C:\\\\Users\\\\U361220\\\\Desktop\\\\SEQ Conversion\\\\Videos\\\\TermovisionDamage1.seq'\n",
    "output_folder = 'C:\\\\Users\\\\U361220\\\\Desktop\\\\SEQ Conversion\\\\SDK Output'\n",
    "im = fnv.file.ImagerFile(video_path)"
   ]
  },
  {
   "attachments": {},
   "cell_type": "markdown",
   "metadata": {},
   "source": [
    "# Trying with regular frames"
   ]
  },
  {
   "cell_type": "code",
   "execution_count": null,
   "metadata": {
    "is_executing": true
   },
   "outputs": [],
   "source": [
    "\n",
    "\n",
    "for frame_id in range(im.num_frames):\n",
    "    # Get frame data\n",
    "    im.get_superframe(frame_id)  \n",
    "    frame_16bit = np.array(im.final, copy=False).reshape((im.height, im.width))\n",
    "    frame_bgr = cv.cvtColor(frame_16bit, cv.COLOR_RGB2BGR)\n",
    "    \n",
    "    # # Apply a color map to the frame (it's grayscale otherwise)\n",
    "    # frame_8bit = (frame_16bit/256).astype(np.uint8)  # Needs scaling\n",
    "    # colormap = cv.applyColorMap(frame_8bit, cv.COLORMAP_JET)\n",
    "    # colormap_bgr = cv.cvtColor(colormap, cv.COLOR_RGB2BGR)  # cv2 expects a BGR image\n",
    "    \n",
    "    # Save data as file\n",
    "    frame_path = f'{output_folder}\\\\frame_{frame_id}.png'\n",
    "    cv.imwrite(frame_path, frame_bgr)\n",
    "    \n",
    "# im.close()"
   ]
  },
  {
   "attachments": {},
   "cell_type": "markdown",
   "metadata": {},
   "source": [
    "# Trying with `im.extract()`"
   ]
  },
  {
   "cell_type": "code",
   "execution_count": null,
   "metadata": {
    "is_executing": true
   },
   "outputs": [],
   "source": [
    "# Set the options for file export\n",
    "options = fnv.file.ImagerFileExtractOptions()\n",
    "options.start_frame = 0\n",
    "options.end_frame = im.num_frames - 1\n",
    "options.preferredFormat = 'mp4'\n",
    "\n",
    "# Export the file\n",
    "im.extract(f'{output_folder}\\\\extracted.avi', options)"
   ]
  },
  {
   "attachments": {},
   "cell_type": "markdown",
   "metadata": {},
   "source": [
    "# Trying with superframes"
   ]
  },
  {
   "cell_type": "code",
   "execution_count": null,
   "metadata": {
    "is_executing": true
   },
   "outputs": [],
   "source": [
    "superframe_iter = im.frame_iter(fnv.Preset.SUPERFRAME)\n",
    "\n",
    "# Go over each superframe\n",
    "for frame in superframe_iter:\n",
    "    im.get_superframe(frame.frame_info.frame)\n",
    "    final = np.array(im.final, copy=False).reshape((im.height, im.width))\n",
    "    # Save data as file\n",
    "    frame_path = f'{output_folder}\\\\frame_{frame_id}.png'\n",
    "    cv.imwrite(frame_path, frame_bgr)\n",
    "\n",
    "# im.get_superframe(0)\n",
    "# frame = np.array(im.final, copy=False).reshape((im.height, im.width))\n",
    "\n",
    "# print(frame.argmin(), frame.argmax())\n",
    "# print(frame)\n",
    "# # cv.imshow('frame', frame)"
   ]
  },
  {
   "attachments": {},
   "cell_type": "markdown",
   "metadata": {},
   "source": [
    "# Conclusion\n",
    "Can't get anything but grayscale images.  \n",
    "Trying to use my own colormap helps, but the image comes out funky and you lose almost all thermal info. "
   ]
  }
 ],
 "metadata": {
  "kernelspec": {
   "display_name": "flir-sdk",
   "language": "python",
   "name": "python3"
  },
  "language_info": {
   "codemirror_mode": {
    "name": "ipython",
    "version": 3
   },
   "file_extension": ".py",
   "mimetype": "text/x-python",
   "name": "python",
   "nbconvert_exporter": "python",
   "pygments_lexer": "ipython3",
   "version": "3.10.12"
  },
  "orig_nbformat": 4
 },
 "nbformat": 4,
 "nbformat_minor": 2
}
