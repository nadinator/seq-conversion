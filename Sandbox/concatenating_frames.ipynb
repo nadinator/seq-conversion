{
 "cells": [
  {
   "cell_type": "markdown",
   "metadata": {},
   "source": [
    "# Initialization"
   ]
  },
  {
   "cell_type": "code",
   "execution_count": 2,
   "metadata": {},
   "outputs": [
    {
     "name": "stdout",
     "output_type": "stream",
     "text": [
      "[<Unit.COUNTS: 0>, <Unit.RADIANCE_FACTORY: 4>, <Unit.OBJECT_SIGNAL: 3>, <Unit.TEMPERATURE_FACTORY: 5>]\n"
     ]
    }
   ],
   "source": [
    "import os\n",
    "import cv2\n",
    "import fnv\n",
    "import fnv.file\n",
    "import fnv.reduce\n",
    "import numpy as np\n",
    "from pprint import PrettyPrinter\n",
    "pprint = PrettyPrinter().pprint\n",
    "\n",
    "video_path = \"C:\\\\Users\\\\U361220\\\\Desktop\\\\SEQ Conversion\\\\Videos\\\\TermovisionDamage1.seq\"\n",
    "im_counts = fnv.file.ImagerFile(video_path)  # reader for COUNTS unit\n",
    "im_temp = fnv.file.ImagerFile(video_path)  # reader for TEMPERATURE_FACTORY unit\n",
    "im_signal = fnv.file.ImagerFile(video_path)  # reader for OBJECT_SIGNAL unit\n",
    "# Why do we need three image readers, I hear you ask?\n",
    "# Because if you use the same one for all three units,\n",
    "# when you come to change the unit for the second time,\n",
    "# then whatever you change the the third unit to, the third \n",
    "# im.final will be the same as the second im.final. Except\n",
    "# if you use COUNTS. Very weird.\n",
    "\n",
    "print(list(im_counts.supported_units))"
   ]
  },
  {
   "cell_type": "code",
   "execution_count": 2,
   "metadata": {},
   "outputs": [
    {
     "data": {
      "text/plain": [
       "(480, 640, 3)"
      ]
     },
     "execution_count": 2,
     "metadata": {},
     "output_type": "execute_result"
    }
   ],
   "source": [
    "concated_frames = np.empty((im_counts.height, im_counts.width, 3))\n",
    "concated_frames.shape"
   ]
  },
  {
   "cell_type": "markdown",
   "metadata": {},
   "source": [
    "# Concatenation with regular frames"
   ]
  },
  {
   "cell_type": "code",
   "execution_count": 3,
   "metadata": {},
   "outputs": [],
   "source": [
    "output_folder = \"C:\\\\Users\\\\U361220\\\\Desktop\\\\SEQ Conversion\\\\Output\\\\SDK\\\\Damage1\\\\Normal Frames\\\\Counts_Temp_Signal\\\\UINT16\"\n",
    "scale = np.uint16"
   ]
  },
  {
   "cell_type": "code",
   "execution_count": 23,
   "metadata": {},
   "outputs": [],
   "source": [
    "# Iterate over all frames in the video\n",
    "for i in range(im_counts.num_frames):\n",
    "    im_counts.unit = fnv.Unit.COUNTS  # Set the desired unit\n",
    "    im_counts.get_frame(i)  # Initialize im_counts.final\n",
    "    im_min = min(im_counts.final)\n",
    "    im_max = max(im_counts.final)\n",
    "    im_range = im_max - im_min\n",
    "    counts_final_unscaled = np.array(im_counts.final, copy=False).reshape((im_counts.height, im_counts.width))  # Reshape frame values\n",
    "    counts_final = (((counts_final_unscaled - im_min) / im_range) * 255).astype(scale)  # Scale for jpeg\n",
    "    \n",
    "    # Repeat for temperature unit\n",
    "    im_temp.unit = fnv.Unit.TEMPERATURE_FACTORY\n",
    "    im_temp.get_frame(i)\n",
    "    im_min = min(im_temp.final)\n",
    "    im_max = max(im_temp.final)\n",
    "    im_range = im_max - im_min\n",
    "    temp_final_unscaled = np.array(im_temp.final, copy=False).reshape((im_temp.height, im_temp.width))\n",
    "    temp_final = (((temp_final_unscaled - im_min) / im_range) * 255).astype(scale)\n",
    "\n",
    "    # Repeat for radiance unit\n",
    "    im_signal.unit = fnv.Unit.OBJECT_SIGNAL\n",
    "    im_signal.get_frame(i)\n",
    "    im_min = min(im_signal.final)\n",
    "    im_max = max(im_signal.final)\n",
    "    im_range = im_max - im_min\n",
    "    signal_final_unscaled = np.array(im_signal.final, copy=False).reshape((im_signal.height, im_signal.width))\n",
    "    signal_final = (((signal_final_unscaled - im_min) / im_range) * 255).astype(scale)\n",
    "\n",
    "    # Reshape into a (480, 640, 3) array for jpg\n",
    "    concated_frames = np.array([counts_final, temp_final, signal_final]).swapaxes(0, 2).swapaxes(1, 0)\n",
    "    \n",
    "    # Save the image\n",
    "    cv2.imwrite(f'{output_folder}\\\\concat_frame_{i}.jpeg', concated_frames)"
   ]
  },
  {
   "cell_type": "markdown",
   "metadata": {},
   "source": [
    "# Concatenation with superframes"
   ]
  },
  {
   "cell_type": "code",
   "execution_count": 26,
   "metadata": {},
   "outputs": [],
   "source": [
    "output_folder = \"C:\\\\Users\\\\U361220\\\\Desktop\\\\SEQ Conversion\\\\Output\\\\SDK\\\\Damage1\\\\Superframes\\\\Counts_Temp_Signal\\\\UINT8\"\n",
    "scale = np.uint8"
   ]
  },
  {
   "cell_type": "code",
   "execution_count": 27,
   "metadata": {},
   "outputs": [],
   "source": [
    "# Get a superframe iterator\n",
    "superframe_iter = im_counts.frame_iter(fnv.Preset.SUPERFRAME)\n",
    "\n",
    "# Go over each superframe\n",
    "for frame in superframe_iter:\n",
    "    i = frame.frame_info.frame\n",
    "    \n",
    "    im_counts.unit = fnv.Unit.COUNTS  # Set the desired unit\n",
    "    im_counts.get_superframe(i)  # Initialize im_counts.final\n",
    "    im_min = min(im_counts.final)\n",
    "    im_max = max(im_counts.final)\n",
    "    im_range = im_max - im_min\n",
    "    counts_final_unscaled = np.array(im_counts.final, copy=False).reshape((im_counts.height, im_counts.width))  # Reshape frame values\n",
    "    counts_final = (((counts_final_unscaled - im_min) / im_range) * 255).astype(scale)  # Scale for jpeg\n",
    "    \n",
    "    # Repeat for temperature unit\n",
    "    im_temp.unit = fnv.Unit.TEMPERATURE_FACTORY\n",
    "    im_temp.get_superframe(i)\n",
    "    im_min = min(im_temp.final)\n",
    "    im_max = max(im_temp.final)\n",
    "    im_range = im_max - im_min\n",
    "    temp_final_unscaled = np.array(im_temp.final, copy=False).reshape((im_temp.height, im_temp.width))\n",
    "    temp_final = (((temp_final_unscaled - im_min) / im_range) * 255).astype(scale)\n",
    "\n",
    "    # Repeat for radiance unit\n",
    "    im_signal.unit = fnv.Unit.OBJECT_SIGNAL\n",
    "    im_signal.get_superframe(i)\n",
    "    im_min = min(im_signal.final)\n",
    "    im_max = max(im_signal.final)\n",
    "    im_range = im_max - im_min\n",
    "    signal_final_unscaled = np.array(im_signal.final, copy=False).reshape((im_signal.height, im_signal.width))\n",
    "    signal_final = (((signal_final_unscaled - im_min) / im_range) * 255).astype(scale)\n",
    "\n",
    "    # Reshape into a (480, 640, 3) array for jpg\n",
    "    concated_frames = np.array([counts_final, temp_final, signal_final]).swapaxes(0, 2).swapaxes(1, 0)\n",
    "    \n",
    "    # Save the image\n",
    "    cv2.imwrite(f'{output_folder}\\\\concat_frame_{i}.jpeg', concated_frames)\n"
   ]
  },
  {
   "cell_type": "markdown",
   "metadata": {},
   "source": [
    "# Adding a Colormap"
   ]
  },
  {
   "cell_type": "code",
   "execution_count": 13,
   "metadata": {},
   "outputs": [],
   "source": [
    "image_folder = \"C:\\\\Users\\\\U361220\\\\Desktop\\\\SEQ Conversion\\\\Output\\\\SDK\\\\Damage1\\\\Superframes\\\\Counts_Temp_Signal\\\\UINT16\"\n",
    "output_folder = \"C:\\\\Users\\\\U361220\\\\Desktop\\\\SEQ Conversion\\\\Output\\\\Color Mapping\\\\Damage1\\\\Superframes\\\\UINT16\"\n",
    "colormap = cv2.COLORMAP_INFERNO  # Clostst thing to thermal studio"
   ]
  },
  {
   "cell_type": "code",
   "execution_count": 14,
   "metadata": {},
   "outputs": [],
   "source": [
    "def get_images():\n",
    "    image_list = []\n",
    "    # Read in images from IMAGE_DIR\n",
    "    for filename in os.listdir(image_folder):\n",
    "        if filename.endswith('jpeg'):\n",
    "            image_path = os.path.join(image_folder, filename)\n",
    "            image = cv2.imread(image_path)\n",
    "            if image is not None:\n",
    "                image_list.append(image)\n",
    "    # Return them as a list\n",
    "    return image_list\n",
    "\n",
    "images = get_images()\n",
    "\n",
    "for i, image in enumerate(images):\n",
    "    # Make the image coloured\n",
    "    color_image = cv2.applyColorMap(image, colormap)\n",
    "    image_path = os.path.join(output_folder, f\"colormapped_image_{i}.jpg\")\n",
    "    0\n",
    "    # Save the image\n",
    "    cv2.imwrite(image_path, color_image)"
   ]
  },
  {
   "cell_type": "markdown",
   "metadata": {},
   "source": [
    "# Adding a temperature scale bar"
   ]
  },
  {
   "cell_type": "code",
   "execution_count": null,
   "metadata": {},
   "outputs": [],
   "source": [
    "import cv2\n",
    "import numpy as np\n",
    "import matplotlib.pyplot as plt\n",
    "\n",
    "# Load your image with OpenCV. It's assumed that the image is already in temperature units\n",
    "img = cv2.imread('your_image_path.jpg', cv2.IMREAD_GRAYSCALE)\n",
    "\n",
    "# Set min and max temperature values\n",
    "min_temp = -30  # change to your actual min temperature value\n",
    "max_temp = 50  # change to your actual max temperature value\n",
    "\n",
    "# Map the temperature values to the range [0, 255]\n",
    "img_mapped = ((img - min_temp) / (max_temp - min_temp) * 255).astype(np.uint8)\n",
    "\n",
    "# Apply a colormap\n",
    "colored_img = cv2.applyColorMap(img_mapped, cv2.COLORMAP_JET)\n",
    "\n",
    "# Now we create a colorbar using matplotlib\n",
    "plt.figure(figsize=(0.5, 4))\n",
    "\n",
    "# We use imshow to show the colorbar alone, it uses the same colormap as the image\n",
    "img = plt.imshow(np.linspace(0, 255, 256)[None, :], aspect='auto', cmap=plt.get_cmap('jet'), origin='lower')\n",
    "\n",
    "# Set the colorbar limits\n",
    "img.set_clim(vmin=min_temp, vmax=max_temp)\n",
    "\n",
    "plt.colorbar(img, orientation='vertical')\n",
    "\n",
    "plt.savefig('colorbar.jpg', bbox_inches='tight', pad_inches=0)\n",
    "\n",
    "# Load the colorbar image with OpenCV\n",
    "colorbar = cv2.imread('colorbar.jpg')\n",
    "\n",
    "# Resize the colorbar to desired height. Here I'm making it the same height as the input image\n",
    "colorbar = cv2.resize(colorbar, (colorbar.shape[1], colored_img.shape[0]))\n",
    "\n",
    "# Concatenate the colorbar horizontally with the image\n",
    "final_image = cv2.hconcat([colored_img, colorbar])\n",
    "\n",
    "# Show the final image\n",
    "cv2.imshow('Image with temperature scale', final_image)\n",
    "cv2.waitKey(0)\n",
    "cv2.destroyAllWindows()\n"
   ]
  }
 ],
 "metadata": {
  "kernelspec": {
   "display_name": "flir-sdk",
   "language": "python",
   "name": "python3"
  },
  "language_info": {
   "codemirror_mode": {
    "name": "ipython",
    "version": 3
   },
   "file_extension": ".py",
   "mimetype": "text/x-python",
   "name": "python",
   "nbconvert_exporter": "python",
   "pygments_lexer": "ipython3",
   "version": "3.10.12"
  },
  "orig_nbformat": 4
 },
 "nbformat": 4,
 "nbformat_minor": 2
}
