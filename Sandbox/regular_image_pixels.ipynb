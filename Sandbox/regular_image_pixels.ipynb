{
 "cells": [
  {
   "cell_type": "code",
   "execution_count": null,
   "metadata": {},
   "outputs": [],
   "source": [
    "# Identify the pixel range of a frame from the split_seqs.py output\n",
    "\n",
    "from PIL import Image\n",
    "from pprint import PrettyPrinter\n",
    "\n",
    "pprint = PrettyPrinter().pprint\n",
    "\n",
    "image = Image.open('C:\\\\Users\\\\U361220\\\\Desktop\\\\SEQ Conversion\\\\split_seqs_output\\\\damage1\\\\preview\\\\frame_000000.jpg', 'r')\n",
    "pix_val = list(image.getdata())\n",
    "r = max(pix_val) - min(pix_val)\n",
    "\n",
    "print(\"Range: \", r)\n",
    "print(\"Pixels: \", pix_val)"
   ]
  },
  {
   "cell_type": "code",
   "execution_count": 1,
   "metadata": {},
   "outputs": [],
   "source": [
    "import numpy\n",
    "from PIL import Image\n",
    "\n",
    "\n",
    "def get_image(image_path):\n",
    "    \"\"\"Get a numpy array of an image so that one can access values[x][y].\"\"\"\n",
    "    image = Image.open(image_path, \"r\")\n",
    "    width, height = image.size\n",
    "    pixel_values = list(image.getdata())\n",
    "    if image.mode == \"RGB\":\n",
    "        channels = 3\n",
    "    elif image.mode == \"L\":\n",
    "        channels = 1\n",
    "    else:\n",
    "        print(\"Unknown mode: %s\" % image.mode)\n",
    "        return None\n",
    "    pixel_values = numpy.array(pixel_values).reshape((width, height, channels))\n",
    "    return pixel_values"
   ]
  },
  {
   "cell_type": "code",
   "execution_count": 12,
   "metadata": {},
   "outputs": [
    {
     "name": "stdout",
     "output_type": "stream",
     "text": [
      "(640, 480, 1)\n"
     ]
    },
    {
     "data": {
      "text/plain": [
       "array([ 6,  6,  6, ..., 84, 85, 85])"
      ]
     },
     "execution_count": 12,
     "metadata": {},
     "output_type": "execute_result"
    }
   ],
   "source": [
    "image = get_image('C:\\\\Users\\\\U361220\\\\Desktop\\\\SEQ Conversion\\\\Output For split_seqs\\\\damage1\\\\preview\\\\frame_000000.jpg')\n",
    "\n",
    "from pprint import PrettyPrinter\n",
    "# print(image[0])\n",
    "print(image.shape)\n",
    "image.flatten()"
   ]
  }
 ],
 "metadata": {
  "kernelspec": {
   "display_name": "flir-sdk",
   "language": "python",
   "name": "python3"
  },
  "language_info": {
   "codemirror_mode": {
    "name": "ipython",
    "version": 3
   },
   "file_extension": ".py",
   "mimetype": "text/x-python",
   "name": "python",
   "nbconvert_exporter": "python",
   "pygments_lexer": "ipython3",
   "version": "3.10.11"
  },
  "orig_nbformat": 4
 },
 "nbformat": 4,
 "nbformat_minor": 2
}
